{
 "cells": [
  {
   "cell_type": "markdown",
   "metadata": {},
   "source": [
    "# Распределенные системы - Лабораторная работа №1\n",
    "# Основы Python. Введение в модель “клиент-сервер”"
   ]
  },
  {
   "cell_type": "markdown",
   "metadata": {},
   "source": [
    "## Порядок сдачи лабораторной работы"
   ]
  },
  {
   "cell_type": "markdown",
   "metadata": {},
   "source": [
    "Для лабораторных работ в MS Teams будет создана отдельная команда, а для каждой лабораторной работы в рамках команды будет создан отдельный канал. Варианты заданий будут направляться каждому студенту через записную книжку команды. \n",
    "\n",
    "Отчет по лабораторной работы должен быть представлен в виде файла Word или PDF, содержащего титульный лист, вариант задания, тексты программ, а также скриншоты экрана, подтверждающие, что программа функционирует и выполняет поставленную задачу. Отчет и файлы с исходными текстами (файлы .py или .ipynb) передаются через MS Teams. Моментом сдачи задания является дата и время выкладки файлов в MS Teams. \n",
    "\n",
    "Лабораторная работа оценивается с максимальной оценкой 10 баллов, если программа корректно решает поставленную задачу и отчет сдан в установленный в задании срок. При отсутствии на занятии лабораторная работа оценивается с максимальной оценкой 9 баллов. \n",
    "\n",
    "В случае просрочки оценка снижается на 1 балл за каждый день просрочки, но не более чем на 5 баллов. Отчеты, отправленные с просрочкой более 5 дней, оцениваются в конце семестра с оценкой не более 5 баллов."
   ]
  },
  {
   "cell_type": "markdown",
   "metadata": {},
   "source": [
    "## Работа с языком программирования Python"
   ]
  },
  {
   "cell_type": "markdown",
   "metadata": {},
   "source": [
    "Python – это простой в освоении и мощный современный язык программирования. Имеются следующие варианты работы с языком Python:\n",
    "\n",
    "1. Для работы с языком Python скачайте с сайта https://www.anaconda.com и установите на ноутбук дистрибутив Anaconda. В качестве редактора/оболочки можно использовать Jupiter Notebook.\n",
    "\n",
    "2. Программы на языке Python можно запускать из окон приложения “Терминал” (если интерпретатор Python установлен на компьютере):\n",
    "\n",
    "    `python3 program_name.py`"
   ]
  },
  {
   "cell_type": "markdown",
   "metadata": {},
   "source": [
    "### Сетевые коммуникации\n",
    "\n",
    "Сетевые коммуникации используются для извлечения данных, необходимых для локального выполнения алгоритма, для обмена информацией для распределенной обработки и для управления облачными службами. Стандартная библиотека Python поставляется с модулями для создания сетевых сервисов, а также для удаленного доступа к существующим сервисам."
   ]
  },
  {
   "cell_type": "markdown",
   "metadata": {},
   "source": [
    "Модуль `socket` предоставляет низкоуровневый API для связи по сети с использованием интерфейса сокета. Он включает в себя класс `socket` для управления каналом данных, а также функции для таких задач, как преобразование имени сервера в адрес и форматирование данных для отправки по сети."
   ]
  },
  {
   "cell_type": "markdown",
   "metadata": {},
   "source": [
    "__Сокет__ — это конечная точка канала связи, используемого программами для передачи данных туда и обратно локально или через Интернет. Сокеты имеют два основных свойства, определяющих способ отправки данных: _семейство адресов_ управляет используемым протоколом сетевого уровня OSI, а _тип сокета_ управляет протоколом транспортного уровня.\n",
    "\n",
    "Python поддерживает несколько семейств адресов. Наиболее распространенное семейство, `AF_INET`, используется для интернет-адресации IPv4. Адреса IPv4 имеют длину 4 байта и обычно представляются последовательностью из четырех чисел, разделенных точками (например, 10.1.1.5 и 127.0.0.1)."
   ]
  },
  {
   "cell_type": "markdown",
   "metadata": {},
   "source": [
    "Тип сокета – это обычно либо `SOCK_DGRAM` для передачи датаграмм, ориентированной на сообщения, либо `SOCK_STREAM` для передачи данных, ориентированной на поток. Сокеты датаграмм чаще всего связаны с UDP, пользовательским протоколом датаграмм. Они обеспечивают негарантированную доставку отдельных сообщений. Потоковые сокеты связаны с TCP, протоколом управления передачей. Они обеспечивают потоки байтов между клиентом и сервером, обеспечивая доставку сообщений или уведомление об ошибках посредством управления тайм-аутом, повторной передачей и другими функциями.\n",
    "Большинство прикладных протоколов, которые доставляют большие объемы данных, например HTTP, построены поверх TCP, потому что проще создавать сложные приложения, когда порядок и доставка сообщений обрабатываются автоматически. UDP обычно используется для протоколов, где порядок менее важен (поскольку сообщения автономны и часто имеют небольшой размер, например, поиск имен через DNS), а также для многоадресной рассылки (отправки одних и тех же данных нескольким хостам). И UDP, и TCP могут использоваться с адресацией IPv4 или IPv6."
   ]
  },
  {
   "cell_type": "markdown",
   "metadata": {},
   "source": [
    "#### Поиск хостов в сети\n",
    "\n",
    "Модуль `socket` включает функции для взаимодействия со службами доменных имен в сети, чтобы программа могла преобразовывать имя хоста сервера в его числовой сетевой адрес. Приложениям не нужно явно преобразовывать адреса, прежде чем использовать их для подключения к серверу. Тем не менее, при сообщении об ошибках может быть полезно включать как числовой адрес, так и используемое значение имени.\n",
    "\n",
    "Чтобы найти официальное имя текущего хоста, можно использовать `gethostname()`."
   ]
  },
  {
   "cell_type": "code",
   "execution_count": 1,
   "metadata": {},
   "outputs": [
    {
     "name": "stdout",
     "output_type": "stream",
     "text": [
      "MacBooks-MacBook-Pro-3.local\n"
     ]
    }
   ],
   "source": [
    "import socket\n",
    "\n",
    "print(socket.gethostname())"
   ]
  },
  {
   "cell_type": "markdown",
   "metadata": {},
   "source": [
    "Возвращаемое имя будет зависеть от сетевых настроек текущей системы и может измениться, если она находится в другой сети (например, ноутбук, подключенный к беспроводной локальной сети)."
   ]
  },
  {
   "cell_type": "markdown",
   "metadata": {},
   "source": [
    "Можно использовать функцию `gethostbyname()`, чтобы обратиться к API операционной системы и преобразовать имя хоста в его числовой адрес."
   ]
  },
  {
   "cell_type": "code",
   "execution_count": 4,
   "metadata": {},
   "outputs": [
    {
     "name": "stdout",
     "output_type": "stream",
     "text": [
      "rudn.com: 45.56.112.166\n",
      "rudn.ru: 185.178.208.57\n",
      "www.python.org: 151.101.84.223\n",
      "noname: [Errno 8] nodename nor servname provided, or not known\n"
     ]
    }
   ],
   "source": [
    "HOSTS = [\n",
    "    'rudn.com',\n",
    "    'rudn.ru',\n",
    "    'www.python.org',\n",
    "    'noname',\n",
    "]\n",
    "\n",
    "for host in HOSTS:\n",
    "    try:\n",
    "        print('{}: {}'.format(host, \n",
    "            socket.gethostbyname(host))) \n",
    "    except socket.error as msg:\n",
    "        print('{}: {}'.format(host, msg))"
   ]
  },
  {
   "cell_type": "markdown",
   "metadata": {},
   "source": [
    "Если конфигурация DNS текущей системы включает в поиск один или несколько доменов, аргумент name не обязательно должен быть полным именем (т. е. он не должен включать имя домена, а также базовое имя хоста). Если имя не может быть найдено, возникает исключение типа socket.error.\n",
    "\n",
    "Когда имеется адрес сервера, то можно использовать функцию `gethostbyaddr()` для «обратного» поиска имени."
   ]
  },
  {
   "cell_type": "code",
   "execution_count": 5,
   "metadata": {},
   "outputs": [
    {
     "name": "stdout",
     "output_type": "stream",
     "text": [
      "Hostname : dns.google\n",
      "Aliases  : ['8.8.8.8.in-addr.arpa']\n",
      "Addresses: ['8.8.8.8']\n"
     ]
    }
   ],
   "source": [
    "hostname, aliases, addresses = socket.gethostbyaddr('8.8.8.8')\n",
    "     \n",
    "print('Hostname :', hostname)\n",
    "print('Aliases  :', aliases)\n",
    "print('Addresses:', addresses)"
   ]
  },
  {
   "cell_type": "markdown",
   "metadata": {},
   "source": [
    "#### Поиск информации о сервисе\n",
    "\n",
    "В дополнение к IP-адресу каждый адрес сокета включает целочисленный номер порта. Многие приложения могут работать на одном хосте, прослушивая один и тот же IP-адрес, но только один сокет в каждый момент времени может использовать порт с этим адресом. Комбинация IP-адреса, протокола и номера порта однозначно идентифицирует канал связи и гарантирует, что сообщения, отправленные через сокет, будут доставлены в нужное место назначения.\n",
    "\n",
    "Некоторые номера портов предварительно выделены для определенного протокола. Например, связь между серверами электронной почты с использованием SMTP происходит через порт номер 25 с использованием TCP, а веб-клиенты и серверы используют порт 80 для HTTP. Номера портов для сетевых служб со стандартизированными именами можно найти с помощью `getservbyname()`."
   ]
  },
  {
   "cell_type": "code",
   "execution_count": 6,
   "metadata": {},
   "outputs": [
    {
     "name": "stdout",
     "output_type": "stream",
     "text": [
      "  http : 80\n",
      " https : 443\n",
      "   ftp : 21\n",
      "gopher : 70\n",
      "  smtp : 25\n",
      "  imap : 143\n",
      " imaps : 993\n",
      "  pop3 : 110\n",
      " pop3s : 995\n"
     ]
    }
   ],
   "source": [
    "from urllib.parse import urlparse\n",
    "URLS = [\n",
    "    'http://www.python.org',\n",
    "    'https://www.mybank.com',\n",
    "    'ftp://prep.ai.mit.edu',\n",
    "    'gopher://gopher.micro.umn.edu',\n",
    "    'smtp://mail.example.com',\n",
    "    'imap://mail.example.com',\n",
    "    'imaps://mail.example.com',\n",
    "    'pop3://pop.example.com',\n",
    "    'pop3s://pop.example.com',\n",
    "]\n",
    "    \n",
    "for url in URLS:\n",
    "    parsed_url = urlparse(url)\n",
    "    port = socket.getservbyname(parsed_url.scheme) \n",
    "    print('{:>6} : {}'.format(parsed_url.scheme, port))"
   ]
  },
  {
   "cell_type": "markdown",
   "metadata": {},
   "source": [
    "## Модуль socket\n",
    "\n",
    "Python предоставляет два уровня доступа к сетевым службам. На низком уровне можно получить доступ к поддержке т.н. сокетов (socket), что позволяет разрабатывать клиентов и серверы как для протоколов, ориентированных на соединение (например, `TCP`), так и для протоколов без установления соединения (например, `UDP`).\n",
    "\n",
    "Python также имеет библиотеки, которые обеспечивают доступ более высокого уровня к определенным сетевым протоколам уровня приложения, таким как `FTP`, `HTTP` и т.д."
   ]
  },
  {
   "cell_type": "markdown",
   "metadata": {},
   "source": [
    "Сокеты - это конечные точки двустороннего канала связи. Сокеты могут обмениваться данными внутри процесса, между процессами на одной машине или между процессами на разных континентах.\n",
    "\n",
    "Сокеты могут быть реализованы для нескольких различных типов каналов (TCP, UDP и т.д.). Модуль `socket` содержит классы для пересылки различных данных.\n",
    "\n",
    "Чтобы создать сокет, можно использовать конструктор `socket.socket()` из модуля `socket` со следующим синтаксисом:\n",
    "\n",
    "`s = socket.socket (socket_family, socket_type, protocol=0)`\n",
    "\n",
    "Здесь `socket_family` − семейство протоколов (обычно `AF_INET`), `socket_type` − тип связи между двумя конечными точками, обычно `SOCK_STREAM` для протоколов с установлением соединения (TCP) и `SOCK_DGRAM` для протоколов без установления соединения (UDP), `protocol` обычно ноль (по умолчанию), может использоваться для идентификации варианта протокола для семейства и типа."
   ]
  },
  {
   "cell_type": "markdown",
   "metadata": {},
   "source": [
    "После создания объекта `socket` можно использовать различные методы класса для создания клиентской или серверной частей программы. Например, можно использовать следующие методы:\n",
    "\n",
    "* `s.bind()` - связывание с сокетом конкретного адреса (имя хоста, номер порта)\n",
    "* `s.recvfrom()` - получить сообщение UDP  \n",
    "* `s.sendto()` - передать сообщение UDP"
   ]
  },
  {
   "cell_type": "markdown",
   "metadata": {},
   "source": [
    "### Система клиент-сервер на TCP/IP\n",
    "\n",
    "Сокеты можно настроить для работы в качестве сервера и прослушивания входящих сообщений, или они могут подключаться к другим приложениям в качестве клиента. После того, как оба конца сокета TCP/IP соединены, обмен данными становится двунаправленным.\n",
    "\n",
    "#### Сервер эха\n",
    "\n",
    "Этот сервер получает входящие сообщения и возвращает их отправителю. Он начинается с создания сокета TCP/IP, а затем используется метод `bind()` для связывания сокета с адресом сервера. В этом случае адрес — `localhost`, относящийся к текущему серверу, а номер порта — 10000."
   ]
  },
  {
   "cell_type": "code",
   "execution_count": null,
   "metadata": {},
   "outputs": [],
   "source": [
    "import socket\n",
    "\n",
    "# Create a TCP/IP socket.\n",
    "sock = socket.socket(socket.AF_INET, socket.SOCK_STREAM)\n",
    "\n",
    "# Bind the socket to the port.\n",
    "server_address = ('localhost', 10001)\n",
    "print('starting up on {} port {}'.format(*server_address)) \n",
    "sock.bind(server_address)\n",
    "     \n",
    "# Listen for incoming connections.\n",
    "sock.listen(1)\n",
    "\n",
    "while True:\n",
    "    # Wait for a connection.\n",
    "    print('waiting for a connection')\n",
    "    connection, client_address = sock.accept()\n",
    "    try:\n",
    "        print('connection from', client_address)\n",
    "        # Receive the data in small chunks and retransmit it. \n",
    "        while True:\n",
    "            data = connection.recv(16)\n",
    "            print('received {!r}'.format(data))\n",
    "            if data:\n",
    "                print('sending data back to the client')\n",
    "                connection.sendall(data)\n",
    "            else:\n",
    "                print('no data from', client_address)\n",
    "                break\n",
    "    finally:\n",
    "        # Clean up the connection.\n",
    "        connection.close()"
   ]
  },
  {
   "cell_type": "markdown",
   "metadata": {},
   "source": [
    "Вызов `listen()` переводит сокет в режим сервера, а вызов `accept()` ожидает входящего соединения. Целочисленный аргумент — это количество подключений, которые система должна поставить в очередь в фоновом режиме, прежде чем отклонять новые клиенты. Этот пример предполагает работу только с одним подключением за раз.\n",
    "\n",
    "Вызов `accept()` возвращает открытое соединение между сервером и клиентом вместе с адресом клиента. Соединение на самом деле является другим сокетом на другом порту (назначенном ядром). Данные считываются из соединения с помощью `recv()` и передаются с помощью `sendall()`.\n",
    "\n",
    "Когда связь с клиентом заканчивается, соединение необходимо очистить с помощью метода `close()`. В этом примере используется блок `try:finally`, чтобы гарантировать, что метод `close()` будет вызываться всегда, даже в случае ошибки."
   ]
  },
  {
   "cell_type": "markdown",
   "metadata": {},
   "source": [
    "### Клиент эха\n",
    "\n",
    "Клиентская часть программы настраивает свой сокет не так, как это делает сервер. Вместо привязки к порту и прослушивания клиент использует метод `connect()` для подключения сокета непосредственно к удаленному адресу."
   ]
  },
  {
   "cell_type": "code",
   "execution_count": 7,
   "metadata": {},
   "outputs": [
    {
     "name": "stdout",
     "output_type": "stream",
     "text": [
      "connecting to localhost port 10001\n",
      "sending b'This is the message. It will be repeated.'\n",
      "received b'This is the mess'\n",
      "received b'age. It will be '\n",
      "received b'repeated.'\n",
      "closing socket\n"
     ]
    }
   ],
   "source": [
    "# Create a TCP/IP socket.\n",
    "sock = socket.socket(socket.AF_INET, socket.SOCK_STREAM)\n",
    "\n",
    "# Connect the socket to the port where the server is listening. \n",
    "server_address = ('localhost', 10001)\n",
    "print('connecting to {} port {}'.format(*server_address)) \n",
    "sock.connect(server_address)\n",
    "\n",
    "try:\n",
    "    # Send data.\n",
    "    message = b'This is the message. It will be repeated.' \n",
    "    print('sending {!r}'.format(message)) \n",
    "    sock.sendall(message)\n",
    "    \n",
    "    # Look for the response.\n",
    "    amount_received = 0\n",
    "    amount_expected = len(message)\n",
    "    while amount_received < amount_expected:\n",
    "        data = sock.recv(16)\n",
    "        amount_received += len(data)\n",
    "        print('received {!r}'.format(data))\n",
    "finally:\n",
    "    print('closing socket')\n",
    "    sock.close()"
   ]
  },
  {
   "cell_type": "markdown",
   "metadata": {},
   "source": [
    "После того, как соединение установлено, данные могут быть отправлены через сокет с помощью `sendall()` и получены с помощью `recv()`, как и на сервере. Когда все сообщение отправлено и получена копия, сокет закрывается, чтобы освободить порт."
   ]
  },
  {
   "cell_type": "markdown",
   "metadata": {},
   "source": [
    "### Совместная работа клиента и сервера \n",
    "\n",
    "Клиент и сервер должны работать в отдельных окнах терминала, чтобы они могли взаимодействовать друг с другом. Вывод сервера показывает входящее соединение и данные, а также ответ, отправленный обратно клиенту. Вывод клиента показывает исходящее сообщение и ответ от сервера."
   ]
  },
  {
   "cell_type": "markdown",
   "metadata": {},
   "source": [
    "## Пример системы клиент-сервер на протоколе UDP"
   ]
  },
  {
   "cell_type": "markdown",
   "metadata": {},
   "source": [
    "Протокол UDP работает иначе, чем TCP/IP. В то время как TCP — это протокол, ориентированный на поток, обеспечивающий передачу всех данных в правильном порядке, UDP — это протокол, ориентированный на сообщения. С одной стороны, UDP не требует долговременного соединения, поэтому настройка сокета UDP немного проще. С другой стороны, UDP-сообщения должны помещаться в одну датаграмму (для IPv4 это означает, что они могут содержать только 65 507 байтов, поскольку 65 535-байтовый пакет также включает информацию заголовка), и доставка не гарантируется, как в случае с TCP.\n",
    "\n",
    "### Cервер эха\n",
    "\n",
    "Поскольку соединения как такового нет, серверу не нужно прослушивать и принимать соединения. Скорее, ему просто нужно использовать `bind()`, чтобы связать его сокет с портом, а затем ждать отдельных сообщений."
   ]
  },
  {
   "cell_type": "code",
   "execution_count": null,
   "metadata": {},
   "outputs": [],
   "source": [
    "# Create a UDP socket.\n",
    "sock = socket.socket(socket.AF_INET, socket.SOCK_DGRAM)\n",
    "\n",
    "# Bind the socket to the port.\n",
    "server_address = ('localhost', 10002)\n",
    "print('starting up on {} port {}'.format(*server_address)) \n",
    "sock.bind(server_address)\n",
    "\n",
    "while True:\n",
    "    print('\\nwaiting to receive message')\n",
    "    data, address = sock.recvfrom(4096)\n",
    "    print('received {} bytes from {}'.format(len(data), address))\n",
    "    print(data)\n",
    "    if data:\n",
    "        sent = sock.sendto(data, address)\n",
    "        print('sent {} bytes back to {}'.format(sent, address))"
   ]
  },
  {
   "cell_type": "markdown",
   "metadata": {},
   "source": [
    "Сообщения считываются из сокета с помощью `recvfrom()`, которая возвращает как данные, так и адрес клиента, с которого оно было отправлено.\n",
    "\n",
    "### Клиент эха\n",
    "\n",
    "Клиент UDP подобен серверу, но он не использует `bind()` для присоединения своего сокета к адресу. Он использует `sendto()` для доставки своего сообщения непосредственно на сервер и `recvfrom()` для получения ответа."
   ]
  },
  {
   "cell_type": "code",
   "execution_count": null,
   "metadata": {},
   "outputs": [],
   "source": [
    "# Create a UDP socket.\n",
    "sock = socket.socket(socket.AF_INET, socket.SOCK_DGRAM)\n",
    "\n",
    "server_address = ('localhost', 10002)\n",
    "message = b'This is the message. It will be repeated.'\n",
    "\n",
    "try:\n",
    "    # Send data.\n",
    "    print('sending {!r}'.format(message))\n",
    "    sent = sock.sendto(message, server_address)\n",
    "    # Receive response.\n",
    "    print('waiting to receive')\n",
    "    data, server = sock.recvfrom(4096)\n",
    "    print('received {!r}'.format(data))\n",
    "finally:\n",
    "    print('closing socket')\n",
    "    sock.close()"
   ]
  },
  {
   "cell_type": "markdown",
   "metadata": {},
   "source": [
    "Важная особенность приведенных систем клиент-сервер на базе протоколов TCP/IP и UDP состоит в том, что отправляемые/принимаемые данные являются байтами (тип `bytes`)."
   ]
  },
  {
   "cell_type": "markdown",
   "metadata": {},
   "source": [
    "## Unicode и байтовый тип\n",
    "\n",
    "Юникод (Unicode) - это стандарт, который описывает представление и кодировку почти всех языков и других символов.\n",
    "\n",
    "Каждому символу в Юникод соответствует определенный код. Это число, которое записывается, например, таким образом: U+0073, где 0073 - это шестнадцатеричные цифры.\n",
    "\n",
    "Одна из самых популярных кодировок Юникод на сегодняшний день - UTF-8. Эта кодировка использует переменное количество байт для записи символов Юникод."
   ]
  },
  {
   "cell_type": "markdown",
   "metadata": {},
   "source": [
    "В Python имеются следующие типы для представления строковых данных:\n",
    "\n",
    "* строки - неизменяемая последовательность Unicode-символов. Для хранения этих символов используется тип `строка` (str)\n",
    "* байты - неизменяемая последовательность байтов. Для хранения используется тип `байты` (bytes)"
   ]
  },
  {
   "cell_type": "markdown",
   "metadata": {},
   "source": [
    "Строку можно записать как последовательность кодов Юникод:"
   ]
  },
  {
   "cell_type": "code",
   "execution_count": 10,
   "metadata": {},
   "outputs": [
    {
     "name": "stdout",
     "output_type": "stream",
     "text": [
      "привет\n",
      "True\n",
      "6\n"
     ]
    }
   ],
   "source": [
    "hi = '\\u043f\\u0440\\u0438\\u0432\\u0435\\u0442'\n",
    "print(hi)\n",
    "print(hi==\"привет\")\n",
    "print(len(hi))"
   ]
  },
  {
   "cell_type": "markdown",
   "metadata": {},
   "source": [
    "Функция ord() возвращает значение кода Unicode для символа:"
   ]
  },
  {
   "cell_type": "markdown",
   "metadata": {},
   "source": [
    "Функция chr() возвращает символ Юникод, который соответствует коду:"
   ]
  },
  {
   "cell_type": "code",
   "execution_count": 11,
   "outputs": [
    {
     "data": {
      "text/plain": [
       "1070"
      ]
     },
     "execution_count": 11,
     "metadata": {},
     "output_type": "execute_result"
    }
   ],
   "source": [
    "ord('Ю')"
   ],
   "metadata": {
    "collapsed": false
   }
  },
  {
   "cell_type": "code",
   "execution_count": 12,
   "metadata": {},
   "outputs": [
    {
     "data": {
      "text/plain": [
       "'Ю'"
      ]
     },
     "execution_count": 12,
     "metadata": {},
     "output_type": "execute_result"
    }
   ],
   "source": [
    "chr(1070)"
   ]
  },
  {
   "cell_type": "markdown",
   "metadata": {},
   "source": [
    "### Байты\n",
    "\n",
    "Тип bytes - это неизменяемая последовательность байтов.\n",
    "\n",
    "Байты обозначаются так же, как строки, но с добавлением буквы «b» перед строкой:"
   ]
  },
  {
   "cell_type": "code",
   "execution_count": 13,
   "metadata": {},
   "outputs": [
    {
     "name": "stdout",
     "output_type": "stream",
     "text": [
      "b'\\xd0\\xb4\\xd0\\xb0'\n",
      "<class 'bytes'>\n",
      "4\n"
     ]
    }
   ],
   "source": [
    "b0 = b'\\xd0\\xb4\\xd0\\xb0'\n",
    "print(b0)\n",
    "print(type(b0))\n",
    "print(len(b0))"
   ]
  },
  {
   "cell_type": "markdown",
   "metadata": {},
   "source": [
    "Байты, которые соответствуют символам ASCII, отображаются как эти символы, а не как соответствующие им байты. Это может немного путать, но всегда можно распознать тип bytes по букве `b`:"
   ]
  },
  {
   "cell_type": "code",
   "execution_count": 14,
   "metadata": {},
   "outputs": [
    {
     "name": "stdout",
     "output_type": "stream",
     "text": [
      "b'hello'\n",
      "b'hello'\n"
     ]
    }
   ],
   "source": [
    "b1 = b'hello'\n",
    "print(b1)\n",
    "b2 = b'\\x68\\x65\\x6c\\x6c\\x6f'\n",
    "print(b2)"
   ]
  },
  {
   "cell_type": "markdown",
   "metadata": {},
   "source": [
    "Если попытаться написать не ASCII-символ в байтовом литерале, то возникнет ошибка:"
   ]
  },
  {
   "cell_type": "code",
   "execution_count": 15,
   "metadata": {},
   "outputs": [
    {
     "ename": "SyntaxError",
     "evalue": "bytes can only contain ASCII literal characters. (1987091685.py, line 1)",
     "output_type": "error",
     "traceback": [
      "\u001B[0;36m  File \u001B[0;32m\"/var/folders/js/2bxqfw755dd7_mlhmm9xqv2c0000gp/T/ipykernel_1676/1987091685.py\"\u001B[0;36m, line \u001B[0;32m1\u001B[0m\n\u001B[0;31m    b3 = b'привет'\u001B[0m\n\u001B[0m                  ^\u001B[0m\n\u001B[0;31mSyntaxError\u001B[0m\u001B[0;31m:\u001B[0m bytes can only contain ASCII literal characters.\n"
     ]
    }
   ],
   "source": [
    "b3 = b'привет'"
   ]
  },
  {
   "cell_type": "markdown",
   "metadata": {},
   "source": [
    "### Конвертация между байтами и строками\n",
    "\n",
    "Для преобразования строки в байты используется метод `encode()`:"
   ]
  },
  {
   "cell_type": "code",
   "execution_count": 16,
   "metadata": {},
   "outputs": [
    {
     "data": {
      "text/plain": [
       "b'\\xd0\\xbf\\xd1\\x80\\xd0\\xb8\\xd0\\xb2\\xd0\\xb5\\xd1\\x82'"
      ]
     },
     "execution_count": 16,
     "metadata": {},
     "output_type": "execute_result"
    }
   ],
   "source": [
    "hi = 'привет'\n",
    "hi_bytes = hi.encode('utf-8')\n",
    "hi_bytes"
   ]
  },
  {
   "cell_type": "markdown",
   "metadata": {},
   "source": [
    "Чтобы получить строку из байт, используется метод `decode()`:"
   ]
  },
  {
   "cell_type": "code",
   "execution_count": 17,
   "metadata": {},
   "outputs": [
    {
     "data": {
      "text/plain": [
       "'привет'"
      ]
     },
     "execution_count": 17,
     "metadata": {},
     "output_type": "execute_result"
    }
   ],
   "source": [
    "hi_bytes.decode('utf-8')"
   ]
  },
  {
   "cell_type": "markdown",
   "metadata": {},
   "source": [
    "Метод `encode()` есть также в классе `str` (как и другие методы работы со строками):"
   ]
  },
  {
   "cell_type": "code",
   "execution_count": 18,
   "metadata": {},
   "outputs": [
    {
     "data": {
      "text/plain": [
       "b'\\xd0\\xbf\\xd1\\x80\\xd0\\xb8\\xd0\\xb2\\xd0\\xb5\\xd1\\x82'"
      ]
     },
     "execution_count": 18,
     "metadata": {},
     "output_type": "execute_result"
    }
   ],
   "source": [
    "str.encode(hi, encoding='utf-8')"
   ]
  },
  {
   "cell_type": "markdown",
   "metadata": {},
   "source": [
    "А метод `decode()` есть у класса `bytes` (плюс другие методы):"
   ]
  },
  {
   "cell_type": "code",
   "execution_count": 19,
   "metadata": {},
   "outputs": [
    {
     "data": {
      "text/plain": [
       "'привет'"
      ]
     },
     "execution_count": 19,
     "metadata": {},
     "output_type": "execute_result"
    }
   ],
   "source": [
    "bytes.decode(hi_bytes, encoding='utf-8')"
   ]
  },
  {
   "cell_type": "markdown",
   "metadata": {},
   "source": [
    "Есть набор простых правил, придерживаясь которых, можно избежать, как минимум, части проблем при работе со строками/байтами:\n",
    "\n",
    "* байты, которые программа считывает, следует как можно раньше преобразовать в строку Юникод \n",
    "* внутри программы следует работать со строками Юникод \n",
    "* строку Юникод следует преобразовывать в байты как можно позднее, непосредственно перед передачей"
   ]
  },
  {
   "cell_type": "markdown",
   "metadata": {},
   "source": [
    "### Пример системы клиент-сервер с конвертацией между байтами и строками\n",
    "\n",
    "Рассмотрим следующий пример программной системы, обменивающейся сообщениями при помощи протокола UDP и использующей конвертацию между строками (str) и байтами (bytes).\n",
    "\n",
    "Импортируем необходимые библиотеки:"
   ]
  },
  {
   "cell_type": "code",
   "execution_count": null,
   "metadata": {},
   "outputs": [],
   "source": [
    "import argparse, socket\n",
    "from datetime import datetime\n",
    "MAX_BYTES = 65535"
   ]
  },
  {
   "cell_type": "markdown",
   "metadata": {},
   "source": [
    "Серверная компонента программы:"
   ]
  },
  {
   "cell_type": "code",
   "execution_count": null,
   "metadata": {},
   "outputs": [],
   "source": [
    "def server(port):\n",
    "    sock = socket.socket(socket.AF_INET, socket.SOCK_DGRAM)\n",
    "    sock.bind(('127.0.0.1', port))\n",
    "    print('Сервер UDP стартовал по адресу {}'.format(sock.getsockname()))\n",
    "    while True:\n",
    "        data, address = sock.recvfrom(MAX_BYTES)\n",
    "        text = data.decode('UTF-8')\n",
    "        print('Клиент по адресу {} сообщает {!r}'.format(address, text))\n",
    "        text = 'Ваши данные имели длину {} байтов'.format(len(data))\n",
    "        data = text.encode('UTF-8')\n",
    "        sock.sendto(data, address)"
   ]
  },
  {
   "cell_type": "markdown",
   "metadata": {},
   "source": [
    "Клиентская компонента программы:"
   ]
  },
  {
   "cell_type": "code",
   "execution_count": null,
   "metadata": {},
   "outputs": [],
   "source": [
    "def client(port):\n",
    "    sock = socket.socket(socket.AF_INET, socket.SOCK_DGRAM)\n",
    "    text = 'Время {}'.format(datetime.now())\n",
    "    data = text.encode('UTF-8')\n",
    "    sock.sendto(data, ('127.0.0.1', port))\n",
    "    print('Пересылка данных серверу:', text)\n",
    "    data, address = sock.recvfrom(MAX_BYTES)\n",
    "    text = data.decode('UTF-8')\n",
    "    print('Сервер {} ответил {!r}'.format(address, text))"
   ]
  },
  {
   "cell_type": "markdown",
   "metadata": {},
   "source": [
    "### Организация интерфейса с пользователем"
   ]
  },
  {
   "cell_type": "markdown",
   "metadata": {},
   "source": [
    "Для ввода данных с клавитатуры будем использовать функцию `input()`:"
   ]
  },
  {
   "cell_type": "code",
   "execution_count": 20,
   "metadata": {},
   "outputs": [
    {
     "name": "stdout",
     "output_type": "stream",
     "text": [
      "Введите целое число x: 2\n",
      "Введите целое число y: 3\n",
      "Сумма 2 и 3 равна 5\n",
      "Произведение 2 и 3 равно 6\n",
      "2 в степени 3 равно 8\n"
     ]
    }
   ],
   "source": [
    "x = int(input('Введите целое число x: ')) \n",
    "y = int(input('Введите целое число y: ')) \n",
    "print('Сумма {} и {} равна {}'.format(x,y,x+y)) \n",
    "print('Произведение {} и {} равно {}'.format(x,y,x*y)) \n",
    "print('{} в степени {} равно {}'.format(x,y,x**y))"
   ]
  },
  {
   "cell_type": "markdown",
   "metadata": {},
   "source": [
    "Здесь использована функция преобразования к целому числу `int()`. Метод `format()` позволяет составить строку на основе каких-либо данных. "
   ]
  },
  {
   "cell_type": "markdown",
   "metadata": {},
   "source": [
    "Для организации меню можно использовать оператор `while`.\n",
    "Оператор `while` позволяет многократно выполнять блок команд до тех пор, пока выполняется некоторое условие. Он также может иметь необязательную часть `else`."
   ]
  },
  {
   "cell_type": "code",
   "execution_count": 21,
   "metadata": {},
   "outputs": [
    {
     "name": "stdout",
     "output_type": "stream",
     "text": [
      "Введите целое число: 25\n",
      "Нет, загаданное число немного меньше этого\n",
      "Введите целое число: 20\n",
      "Нет, загаданное число немного больше этого\n",
      "Введите целое число: 23\n",
      "Поздравляю, Вы угадали\n",
      "Цикл while закончен.\n"
     ]
    }
   ],
   "source": [
    "number = 23 \n",
    "running = True\n",
    "while running: \n",
    "    guess = int(input('Введите целое число: ')) \n",
    "    if guess == number: \n",
    "        print('Поздравляю, Вы угадали') \n",
    "        running = False \n",
    "    elif guess < number: \n",
    "        print('Нет, загаданное число немного больше этого') \n",
    "    else: \n",
    "        print('Нет, загаданное число немного меньше этого') \n",
    "else: \n",
    "    print('Цикл while закончен.')"
   ]
  },
  {
   "cell_type": "markdown",
   "metadata": {},
   "source": [
    "Для хранения записей с данными на сервере рекомендуется использовать список.\n",
    "\n",
    "\n",
    "### Списки в Python"
   ]
  },
  {
   "cell_type": "markdown",
   "metadata": {},
   "source": [
    "Список — это набор элементов, следующих в определенном порядке. В список можно поместить любую информацию. Список обозначается квадратными скобками `[]`, а отдельные элементы списка разделяются запятыми:"
   ]
  },
  {
   "cell_type": "code",
   "execution_count": 22,
   "metadata": {},
   "outputs": [
    {
     "name": "stdout",
     "output_type": "stream",
     "text": [
      "['audi', 'kia', 'opel', 'ford', 'volvo', 'jeep']\n"
     ]
    }
   ],
   "source": [
    "cars = ['audi', 'kia','opel','ford','volvo','jeep']\n",
    "print(cars)"
   ]
  },
  {
   "cell_type": "markdown",
   "metadata": {},
   "source": [
    "Чтобы обратиться к элементу в списке, нужно указать имя списка и индекс элемента в квадратных скобках, причем нумерация индексов начинается с нуля:"
   ]
  },
  {
   "cell_type": "code",
   "execution_count": 23,
   "metadata": {},
   "outputs": [
    {
     "name": "stdout",
     "output_type": "stream",
     "text": [
      "kia\n"
     ]
    }
   ],
   "source": [
    "print(cars[1])"
   ]
  },
  {
   "cell_type": "markdown",
   "metadata": {},
   "source": [
    "Если запросить элемент с индексом –1, то Python всегда возвращает последний элемент в списке:"
   ]
  },
  {
   "cell_type": "code",
   "execution_count": 24,
   "metadata": {},
   "outputs": [
    {
     "name": "stdout",
     "output_type": "stream",
     "text": [
      "jeep\n"
     ]
    }
   ],
   "source": [
    "print(cars[-1])"
   ]
  },
  {
   "cell_type": "markdown",
   "metadata": {},
   "source": [
    "Для определения длины списка можно использовать функцию `len()`:"
   ]
  },
  {
   "cell_type": "code",
   "execution_count": 25,
   "metadata": {},
   "outputs": [
    {
     "data": {
      "text/plain": [
       "6"
      ]
     },
     "execution_count": 25,
     "metadata": {},
     "output_type": "execute_result"
    }
   ],
   "source": [
    "len(cars)"
   ]
  },
  {
   "cell_type": "markdown",
   "metadata": {},
   "source": [
    "Для изменения элемента списка выполняется операция присваивания нового значения:"
   ]
  },
  {
   "cell_type": "code",
   "execution_count": 26,
   "metadata": {},
   "outputs": [
    {
     "name": "stdout",
     "output_type": "stream",
     "text": [
      "['audi', 'kia', 'opel', 'fiat', 'volvo', 'jeep']\n"
     ]
    }
   ],
   "source": [
    "cars[3]='fiat'\n",
    "print(cars)"
   ]
  },
  {
   "cell_type": "markdown",
   "metadata": {},
   "source": [
    "Для добавление нового элемента в конец списка используем метод `append()`:"
   ]
  },
  {
   "cell_type": "code",
   "execution_count": 27,
   "metadata": {},
   "outputs": [
    {
     "name": "stdout",
     "output_type": "stream",
     "text": [
      "['audi', 'kia', 'opel', 'fiat', 'volvo', 'jeep', 'lada']\n"
     ]
    }
   ],
   "source": [
    "cars.append('lada')\n",
    "print(cars)"
   ]
  },
  {
   "cell_type": "markdown",
   "metadata": {},
   "source": [
    "Метод `append()` упрощает динамическое построение списков. Например, можно начать с пустого списка и добавлять в него элементы серией команд `append()`:"
   ]
  },
  {
   "cell_type": "code",
   "execution_count": 28,
   "metadata": {},
   "outputs": [
    {
     "name": "stdout",
     "output_type": "stream",
     "text": [
      "['зима', 'весна', 'лето', 'осень']\n"
     ]
    }
   ],
   "source": [
    "seasons = []\n",
    "seasons.append('зима') \n",
    "seasons.append('весна')\n",
    "seasons.append('лето') \n",
    "seasons.append('осень')\n",
    "print(seasons)"
   ]
  },
  {
   "cell_type": "markdown",
   "metadata": {},
   "source": [
    "Метод `insert()` позволяет добавить новый элемент в произвольную позицию списка (например, в первую позицию с индексом `0`):"
   ]
  },
  {
   "cell_type": "code",
   "execution_count": 29,
   "metadata": {},
   "outputs": [
    {
     "name": "stdout",
     "output_type": "stream",
     "text": [
      "['lada', 'audi', 'kia', 'opel', 'fiat', 'volvo', 'jeep', 'lada']\n"
     ]
    }
   ],
   "source": [
    "cars.insert(0, 'lada')\n",
    "print(cars)"
   ]
  },
  {
   "cell_type": "markdown",
   "metadata": {},
   "source": [
    "Удалить элемент из любой позиции списка можно при помощи команды `del`, если известен индекс элемента:"
   ]
  },
  {
   "cell_type": "code",
   "execution_count": 30,
   "metadata": {},
   "outputs": [
    {
     "name": "stdout",
     "output_type": "stream",
     "text": [
      "['audi', 'kia', 'opel', 'fiat', 'volvo', 'jeep', 'lada']\n"
     ]
    }
   ],
   "source": [
    "del cars[0]\n",
    "print(cars)"
   ]
  },
  {
   "cell_type": "markdown",
   "metadata": {},
   "source": [
    "Если позиция удаляемого элемента неизвестна, то можно использовать метод `remove()`:"
   ]
  },
  {
   "cell_type": "code",
   "execution_count": 31,
   "metadata": {},
   "outputs": [
    {
     "name": "stdout",
     "output_type": "stream",
     "text": [
      "['audi', 'opel', 'fiat', 'volvo', 'jeep', 'lada']\n"
     ]
    }
   ],
   "source": [
    "cars.remove('kia')\n",
    "print(cars)"
   ]
  },
  {
   "cell_type": "markdown",
   "metadata": {},
   "source": [
    "Для проверки вхождения элемента в список можно использовать конструкцию `if..in..`:"
   ]
  },
  {
   "cell_type": "code",
   "execution_count": 32,
   "metadata": {},
   "outputs": [
    {
     "name": "stdout",
     "output_type": "stream",
     "text": [
      "volvo в списке\n"
     ]
    }
   ],
   "source": [
    "if 'volvo' in cars:\n",
    "    print('volvo в списке')"
   ]
  },
  {
   "cell_type": "markdown",
   "metadata": {},
   "source": [
    "Для перебора всех элементов списка предназначена следующая форма цикла `for`:"
   ]
  },
  {
   "cell_type": "code",
   "execution_count": 33,
   "metadata": {},
   "outputs": [
    {
     "name": "stdout",
     "output_type": "stream",
     "text": [
      "--> audi\n",
      "--> opel\n",
      "--> fiat\n",
      "--> volvo\n",
      "--> jeep\n",
      "--> lada\n"
     ]
    }
   ],
   "source": [
    "for car in cars:\n",
    "    print('-->',car)"
   ]
  },
  {
   "cell_type": "markdown",
   "metadata": {},
   "source": [
    "Метод `sort()` позволяет отсортировать список:"
   ]
  },
  {
   "cell_type": "code",
   "execution_count": 34,
   "metadata": {},
   "outputs": [
    {
     "name": "stdout",
     "output_type": "stream",
     "text": [
      "['audi', 'fiat', 'jeep', 'lada', 'opel', 'volvo']\n"
     ]
    }
   ],
   "source": [
    "cars.sort()\n",
    "print(cars)"
   ]
  },
  {
   "cell_type": "markdown",
   "metadata": {},
   "source": [
    "Для обратной сортировки можно использовать флаг `reverse=True`:"
   ]
  },
  {
   "cell_type": "code",
   "execution_count": 35,
   "metadata": {},
   "outputs": [
    {
     "name": "stdout",
     "output_type": "stream",
     "text": [
      "['volvo', 'opel', 'lada', 'jeep', 'fiat', 'audi']\n"
     ]
    }
   ],
   "source": [
    "cars.sort(reverse=True)\n",
    "print(cars)"
   ]
  },
  {
   "cell_type": "markdown",
   "metadata": {},
   "source": [
    "Для преобразования строки, составленной из значений, разделенных запятыми (или другим разделителем) в список можно использовать метод `split()`:"
   ]
  },
  {
   "cell_type": "code",
   "execution_count": 36,
   "metadata": {},
   "outputs": [
    {
     "name": "stdout",
     "output_type": "stream",
     "text": [
      "['первый', 'второй', 'третий']\n"
     ]
    }
   ],
   "source": [
    "aStr = \"первый,второй,третий\"\n",
    "aList = aStr.split(\",\")\n",
    "print(aList)"
   ]
  },
  {
   "cell_type": "markdown",
   "metadata": {},
   "source": [
    "Для обратного преобразования списка из символьных значений в строку можно использовать операцию `+`:"
   ]
  },
  {
   "cell_type": "code",
   "execution_count": 37,
   "metadata": {},
   "outputs": [
    {
     "name": "stdout",
     "output_type": "stream",
     "text": [
      "первый!второй!третий\n"
     ]
    }
   ],
   "source": [
    "newStr = aList[0]+\"!\"+aList[1]+\"!\"+aList[2]\n",
    "print(newStr)"
   ]
  },
  {
   "cell_type": "markdown",
   "metadata": {},
   "source": [
    "### Задание на лабораторную работу №1"
   ]
  },
  {
   "cell_type": "markdown",
   "metadata": {},
   "source": [
    "В соответствии с индивидуальным заданием (вариантом), размещенным на странице «ЛР 1, Вариант хх» в записной книжке команды MS Teams «НБИ-20 РС», выполните следующие задания:\n",
    "\n",
    "1. Разработайте программную систему, состоящую из клиентской и серверной частей и работающую на базе протокола, указанного в индивидуальном задании.\n",
    "\n",
    "2. Клиентская часть программы (\"клиент\") в цикле выводит на экран список возможных команд и запрашивает у пользователя ввод кода (символа) команды. При получении команды «выход» (символ q) клиент завершает работу. \n",
    "\n",
    "3. При получении команды «добавить запись» (символ +) клиент запрашивает у пользователя необходимые данные, осуществляет необходимые проверки (текстовые данные не пусты, числовые поля представлены числами и неотрицательны), формирует сообщение и отправляет его на сервер для сохранения. Команда и данные в сообщении разделяются запятыми (или другим разделителем), причем первый введенный элемент воспринимается сервером как команда. Например, если вводятся команда «+» и в качестве данных группа и количество студентов, то на сервер отправляется сообщение +,НБИбд-01-20,19.\n",
    "\n",
    "4. Реализуйте в клиенте интерфейс для обработки команд, указанных в индивидуальном задании. Полученные от сервера данные (ответ) выводятся клиентом на экран.\n",
    "\n",
    "5. Серверная часть программы (сервер) ожидает в цикле поступления команд от клиентской части программы в формате код команды и данные с разделителями. Первый элемент воспринимается как код команды. Данные хранятся на сервере в списке.\n",
    "\n",
    "6. При получении команды, предусматривающей возврат данных клиенту, сервер выполняет необходимые манипуляции (вычисления) с данными и возвращает результат клиенту. При получении команды, не предусматривающей возврата данных клиенту, сервер возвращает сообщение о выполнении команды.\n",
    "\n",
    "7. Запустите клиент и сервер в двух окнах терминала или двух блокнотах Jupiter и осуществите ввод команд и данных, подтверждающих работоспособность программной системы. \n"
   ]
  },
  {
   "cell_type": "code",
   "execution_count": null,
   "metadata": {},
   "outputs": [],
   "source": []
  }
 ],
 "metadata": {
  "kernelspec": {
   "display_name": "Python 3 (ipykernel)",
   "language": "python",
   "name": "python3"
  },
  "language_info": {
   "codemirror_mode": {
    "name": "ipython",
    "version": 3
   },
   "file_extension": ".py",
   "mimetype": "text/x-python",
   "name": "python",
   "nbconvert_exporter": "python",
   "pygments_lexer": "ipython3",
   "version": "3.11.5"
  }
 },
 "nbformat": 4,
 "nbformat_minor": 4
}
